{
 "cells": [
  {
   "cell_type": "markdown",
   "metadata": {},
   "source": [
    "# A prompt Generator WorkFlow using LangChain"
   ]
  },
  {
   "cell_type": "code",
   "execution_count": 1,
   "metadata": {},
   "outputs": [],
   "source": [
    "import os\n",
    "from dotenv import load_dotenv\n",
    "load_dotenv()\n",
    "from langchain.chat_models import init_chat_model\n",
    "from langchain_core.messages import HumanMessage, SystemMessage\n",
    "\n",
    "from langchain_core.prompts import ChatPromptTemplate\n"
   ]
  },
  {
   "cell_type": "code",
   "execution_count": 2,
   "metadata": {},
   "outputs": [],
   "source": [
    "# os.getenv(\"LANGSMITH_TRACING\")\n",
    "# os.getenv(\"LANGSMITH_API_KEY\")\n",
    "# os.getenv(\"GROQ_API_KEY\")"
   ]
  },
  {
   "cell_type": "code",
   "execution_count": 3,
   "metadata": {},
   "outputs": [],
   "source": [
    "model = init_chat_model(\"llama-3.3-70b-versatile\", model_provider=\"groq\", temperature=0.0)"
   ]
  },
  {
   "cell_type": "code",
   "execution_count": 4,
   "metadata": {},
   "outputs": [],
   "source": [
    "# system_template = \"\"\"\n",
    "# You are an expert prompt engineer. Your task is to deeply understand what I want, and in return respond with a well crafted prompt that, if fed to a separate AI, will get me exactly the result I want.\n",
    "\n",
    "# The prompt follows this rough outline, and makes sure to include each part as needed:\n",
    "\n",
    "# A persona. At the start, you write something to the affect of “Act as an expert in ...” This primes the LLM to respond from info relating to experts in the specific field.\n",
    "\n",
    "# The task. This part of the prompt involves exhaustively laying out the task for the LLM. It is critical this part is specific and clear. This is the most important part of the prompt.\n",
    "\n",
    "# Context. Make sure to include any context that is needed for the LLM to accurately, and reliably respond as needed.\n",
    "\n",
    "# Response format. Outline the ideal response format for this prompt.\n",
    "\n",
    "# Examples. This step is optional, but if examples would be beneficial, include them.\n",
    "\n",
    "# Input. If needed, leave a space in the prompt for any input data. This should be highlight between brackets [like this]\n",
    "\n",
    "# Some other important notes:\n",
    "\n",
    "# Instruct the model to list out it’s thoughts before giving an answer.\n",
    "\n",
    "# If complex reasoning is required, include directions for the LLM to think step by step, and weigh all sides of the topic before settling on an answer.\n",
    "\n",
    "# Where appropriate, make sure to utilize advanced prompt engineering techniques. These include, but are not limited to: Chain of Thought, Debate simulations, Self Reflection, and Self Consistency.\n",
    "\n",
    "# Strictly use text, no code please\n",
    "\n",
    "# Please craft the perfect prompt for my request below texts:\n",
    "\n",
    "# \"\"\"\n",
    "# prompt_template = ChatPromptTemplate.from_messages(\n",
    "#     [(\"system\", system_template), (\"user\", \"{text}\")]\n",
    "# )\n"
   ]
  },
  {
   "cell_type": "code",
   "execution_count": 5,
   "metadata": {},
   "outputs": [],
   "source": [
    "system_template = \"\"\"\n",
    "**Act as an EXPERT PROMPT ENGINEER** with an in-depth understanding of **LLM behavior, advanced prompt techniques, and structured prompt optimization**. Your task is to **analyze and deeply understand my request** and then generate a **highly optimized prompt** that, when fed into a separate AI, will produce the most precise and useful response possible.  \n",
    "\n",
    "### **TASK:**  \n",
    "You must construct a **perfect prompt** that includes all the following elements:  \n",
    "\n",
    "**Persona**: The AI should take on a specific role (e.g., \"Act as a historian specializing in ancient civilizations\"). This primes the AI to provide responses with expertise and domain knowledge.  \n",
    "\n",
    "**Clear and Specific Task**: Lay out the task in detail, ensuring no ambiguity. The AI should fully understand what is expected of it before generating a response.  \n",
    "\n",
    "**Context**: Provide all necessary background information so the AI can respond **accurately and reliably**. Any missing context should be explicitly stated to prevent incorrect assumptions.  \n",
    "\n",
    "**Response Format**: Define the ideal response structure, including whether it should be bullet points, a numbered list, a detailed explanation, or a structured summary.  \n",
    "\n",
    "**Examples (if applicable)**: If examples can improve the AI’s performance, provide them to guide the response.  \n",
    "\n",
    "**Input Placeholder**: If user-provided input is required, leave a space formatted as **[INPUT GOES HERE]** so it can be dynamically replaced.  \n",
    "\n",
    "### **ADDITIONAL REQUIREMENTS:**  \n",
    "**Reasoning Before Answering**: The AI must list out its thoughts, break down its reasoning, and logically work through the problem before settling on a final answer.  \n",
    "\n",
    "**Step-by-Step Thinking**: If the task requires complex reasoning, instruct the AI to **think step by step** to ensure accuracy and logical coherence.  \n",
    "\n",
    "**Advanced Prompting Techniques**: When relevant, utilize **Chain of Thought, Debate Simulations, Self-Reflection, and Self-Consistency** to improve response quality and depth.  \n",
    "\n",
    "**STRICT INSTRUCTION:** **Only return the well-optimized prompt. Do NOT include commentary, explanations, or additional content.**  \n",
    "\n",
    "\"\"\"\n",
    "prompt_template = ChatPromptTemplate.from_messages(\n",
    "    [(\"system\", system_template), (\"user\", \"{text}\")]\n",
    ")"
   ]
  },
  {
   "cell_type": "code",
   "execution_count": 6,
   "metadata": {},
   "outputs": [],
   "source": [
    "user_prompt = \"\"\"\n",
    "You are an expert copywriter with \n",
    "more than 20 years of experience in \n",
    "writing high-performing copy. I want \n",
    "you to come up with 5 compelling \n",
    "and persuasive article ideas for \n",
    "[SUBJECT]. [MORE INFORMATION]. \n",
    "Present your response as headlines \n",
    "followed by paragraphs describing \n",
    "the content of the article and why \n",
    "you think it would be interesting.\n",
    "\"\"\""
   ]
  },
  {
   "cell_type": "code",
   "execution_count": 7,
   "metadata": {},
   "outputs": [
    {
     "data": {
      "text/plain": [
       "ChatPromptValue(messages=[SystemMessage(content='\\n**Act as an EXPERT PROMPT ENGINEER** with an in-depth understanding of **LLM behavior, advanced prompt techniques, and structured prompt optimization**. Your task is to **analyze and deeply understand my request** and then generate a **highly optimized prompt** that, when fed into a separate AI, will produce the most precise and useful response possible.  \\n\\n### **TASK:**  \\nYou must construct a **perfect prompt** that includes all the following elements:  \\n\\n**Persona**: The AI should take on a specific role (e.g., \"Act as a historian specializing in ancient civilizations\"). This primes the AI to provide responses with expertise and domain knowledge.  \\n\\n**Clear and Specific Task**: Lay out the task in detail, ensuring no ambiguity. The AI should fully understand what is expected of it before generating a response.  \\n\\n**Context**: Provide all necessary background information so the AI can respond **accurately and reliably**. Any missing context should be explicitly stated to prevent incorrect assumptions.  \\n\\n**Response Format**: Define the ideal response structure, including whether it should be bullet points, a numbered list, a detailed explanation, or a structured summary.  \\n\\n**Examples (if applicable)**: If examples can improve the AI’s performance, provide them to guide the response.  \\n\\n**Input Placeholder**: If user-provided input is required, leave a space formatted as **[INPUT GOES HERE]** so it can be dynamically replaced.  \\n\\n### **ADDITIONAL REQUIREMENTS:**  \\n**Reasoning Before Answering**: The AI must list out its thoughts, break down its reasoning, and logically work through the problem before settling on a final answer.  \\n\\n**Step-by-Step Thinking**: If the task requires complex reasoning, instruct the AI to **think step by step** to ensure accuracy and logical coherence.  \\n\\n**Advanced Prompting Techniques**: When relevant, utilize **Chain of Thought, Debate Simulations, Self-Reflection, and Self-Consistency** to improve response quality and depth.  \\n\\n**STRICT INSTRUCTION:** **Only return the well-optimized prompt. Do NOT include commentary, explanations, or additional content.**  \\n\\n', additional_kwargs={}, response_metadata={}), HumanMessage(content='\\nYou are an expert copywriter with \\nmore than 20 years of experience in \\nwriting high-performing copy. I want \\nyou to come up with 5 compelling \\nand persuasive article ideas for \\n[SUBJECT]. [MORE INFORMATION]. \\nPresent your response as headlines \\nfollowed by paragraphs describing \\nthe content of the article and why \\nyou think it would be interesting.\\n', additional_kwargs={}, response_metadata={})])"
      ]
     },
     "execution_count": 7,
     "metadata": {},
     "output_type": "execute_result"
    }
   ],
   "source": [
    "prompt = prompt_template.invoke({\"text\": user_prompt})\n",
    "\n",
    "prompt"
   ]
  },
  {
   "cell_type": "code",
   "execution_count": 8,
   "metadata": {},
   "outputs": [
    {
     "data": {
      "text/plain": [
       "[SystemMessage(content='\\n**Act as an EXPERT PROMPT ENGINEER** with an in-depth understanding of **LLM behavior, advanced prompt techniques, and structured prompt optimization**. Your task is to **analyze and deeply understand my request** and then generate a **highly optimized prompt** that, when fed into a separate AI, will produce the most precise and useful response possible.  \\n\\n### **TASK:**  \\nYou must construct a **perfect prompt** that includes all the following elements:  \\n\\n**Persona**: The AI should take on a specific role (e.g., \"Act as a historian specializing in ancient civilizations\"). This primes the AI to provide responses with expertise and domain knowledge.  \\n\\n**Clear and Specific Task**: Lay out the task in detail, ensuring no ambiguity. The AI should fully understand what is expected of it before generating a response.  \\n\\n**Context**: Provide all necessary background information so the AI can respond **accurately and reliably**. Any missing context should be explicitly stated to prevent incorrect assumptions.  \\n\\n**Response Format**: Define the ideal response structure, including whether it should be bullet points, a numbered list, a detailed explanation, or a structured summary.  \\n\\n**Examples (if applicable)**: If examples can improve the AI’s performance, provide them to guide the response.  \\n\\n**Input Placeholder**: If user-provided input is required, leave a space formatted as **[INPUT GOES HERE]** so it can be dynamically replaced.  \\n\\n### **ADDITIONAL REQUIREMENTS:**  \\n**Reasoning Before Answering**: The AI must list out its thoughts, break down its reasoning, and logically work through the problem before settling on a final answer.  \\n\\n**Step-by-Step Thinking**: If the task requires complex reasoning, instruct the AI to **think step by step** to ensure accuracy and logical coherence.  \\n\\n**Advanced Prompting Techniques**: When relevant, utilize **Chain of Thought, Debate Simulations, Self-Reflection, and Self-Consistency** to improve response quality and depth.  \\n\\n**STRICT INSTRUCTION:** **Only return the well-optimized prompt. Do NOT include commentary, explanations, or additional content.**  \\n\\n', additional_kwargs={}, response_metadata={}),\n",
       " HumanMessage(content='\\nYou are an expert copywriter with \\nmore than 20 years of experience in \\nwriting high-performing copy. I want \\nyou to come up with 5 compelling \\nand persuasive article ideas for \\n[SUBJECT]. [MORE INFORMATION]. \\nPresent your response as headlines \\nfollowed by paragraphs describing \\nthe content of the article and why \\nyou think it would be interesting.\\n', additional_kwargs={}, response_metadata={})]"
      ]
     },
     "execution_count": 8,
     "metadata": {},
     "output_type": "execute_result"
    }
   ],
   "source": [
    "prompt.to_messages()"
   ]
  },
  {
   "cell_type": "code",
   "execution_count": 9,
   "metadata": {},
   "outputs": [
    {
     "name": "stdout",
     "output_type": "stream",
     "text": [
      "Act as a seasoned copywriter specializing in crafting compelling content, with a focus on [SUBJECT] and the additional context of [MORE INFORMATION]. Your task is to generate five persuasive article ideas that capture the essence of the subject matter, incorporating the necessary background information to ensure accuracy and reliability. Present each idea as a headline, followed by a detailed description of the article's content and why it would resonate with the target audience. Ensure the response format is clear, with each article idea building upon the previous one to create a cohesive narrative. If applicable, provide examples to illustrate key points and leave space for user-provided input as **[INPUT GOES HERE]**.\n",
      "\n",
      "## Unlocking the Power of [SUBJECT]: A Deep Dive into Its Impact on [INDUSTRY/FIELD]\n",
      "This article would delve into the significance of [SUBJECT] within the context of [INDUSTRY/FIELD], exploring its current applications, future potential, and the challenges it poses. By examining real-world examples and expert insights, readers would gain a comprehensive understanding of how [SUBJECT] is revolutionizing [INDUSTRY/FIELD] and what this means for stakeholders. The piece would be structured as an in-depth analysis, complete with bullet points highlighting key statistics and trends, to provide a clear and concise overview of the subject's influence.\n",
      "\n",
      "## The [SUBJECT] Revolution: How [MORE INFORMATION] Is Changing the Game\n",
      "This article idea focuses on the intersection of [SUBJECT] and [MORE INFORMATION], discussing how their convergence is creating new opportunities and challenges. Through a step-by-step examination of current developments and future projections, the article would guide readers through the process of understanding and adapting to these changes. Incorporating debate simulations to address potential controversies and self-reflection to consider multiple perspectives, the piece would offer a balanced and thought-provoking exploration of the [SUBJECT] revolution.\n",
      "\n",
      "## Beyond the Hype: A Balanced Look at [SUBJECT] and Its Practical Applications\n",
      "With this article, the aim is to cut through the hype surrounding [SUBJECT] and provide a grounded, practical look at its real-world applications and limitations. By considering both the benefits and drawbacks of [SUBJECT] in various contexts, including **[INPUT GOES HERE]**, the piece would offer readers a nuanced understanding of what [SUBJECT] can realistically achieve. This would involve a chain of thought process, where each point builds on the previous one to create a logical and coherent argument, culminating in actionable advice for those looking to leverage [SUBJECT] effectively.\n",
      "\n",
      "## The Future of [INDUSTRY/FIELD]: Predictions and Insights from [SUBJECT] Experts\n",
      "This article would compile predictions and insights from leading experts in [SUBJECT], focusing on how it will shape the future of [INDUSTRY/FIELD]. Through a series of interviews or a roundtable discussion, the piece would gather diverse perspectives on the trends, challenges, and opportunities that [SUBJECT] presents. By organizing the content into a structured summary, complete with numbered lists of key takeaways and predictions, readers would be able to navigate the complex landscape of [SUBJECT] and its implications for [INDUSTRY/FIELD] with clarity.\n",
      "\n",
      "## From [SUBJECT] to Success: Real-Life Stories of Innovation and Adaptation\n",
      "In this article, the focus would be on showcasing real-life stories of how individuals or organizations have successfully harnessed [SUBJECT] to drive innovation and adaptation in their respective fields. By highlighting specific strategies, challenges overcome, and lessons learned, these case studies would serve as powerful examples of the potential of [SUBJECT] when applied with dedication and creativity. The article would be designed to inspire and motivate readers, encouraging them to explore how [SUBJECT] can be applied in their own contexts, with a call to action that prompts them to share their own stories or experiences with **[INPUT GOES HERE]**.\n"
     ]
    }
   ],
   "source": [
    "response = model.invoke(prompt)\n",
    "print(response.content)"
   ]
  },
  {
   "cell_type": "code",
   "execution_count": 10,
   "metadata": {},
   "outputs": [
    {
     "data": {
      "text/plain": [
       "\"Act as a seasoned copywriter specializing in crafting compelling content, with a focus on [SUBJECT] and the additional context of [MORE INFORMATION]. Your task is to generate five persuasive article ideas that capture the essence of the subject matter, incorporating the necessary background information to ensure accuracy and reliability. Present each idea as a headline, followed by a detailed description of the article's content and why it would resonate with the target audience. Ensure the response format is clear, with each article idea building upon the previous one to create a cohesive narrative. If applicable, provide examples to illustrate key points and leave space for user-provided input as **[INPUT GOES HERE]**.\\n\\n## Unlocking the Power of [SUBJECT]: A Deep Dive into Its Impact on [INDUSTRY/FIELD]\\nThis article would delve into the significance of [SUBJECT] within the context of [INDUSTRY/FIELD], exploring its current applications, future potential, and the challenges it poses. By examining real-world examples and expert insights, readers would gain a comprehensive understanding of how [SUBJECT] is revolutionizing [INDUSTRY/FIELD] and what this means for stakeholders. The piece would be structured as an in-depth analysis, complete with bullet points highlighting key statistics and trends, to provide a clear and concise overview of the subject's influence.\\n\\n## The [SUBJECT] Revolution: How [MORE INFORMATION] Is Changing the Game\\nThis article idea focuses on the intersection of [SUBJECT] and [MORE INFORMATION], discussing how their convergence is creating new opportunities and challenges. Through a step-by-step examination of current developments and future projections, the article would guide readers through the process of understanding and adapting to these changes. Incorporating debate simulations to address potential controversies and self-reflection to consider multiple perspectives, the piece would offer a balanced and thought-provoking exploration of the [SUBJECT] revolution.\\n\\n## Beyond the Hype: A Balanced Look at [SUBJECT] and Its Practical Applications\\nWith this article, the aim is to cut through the hype surrounding [SUBJECT] and provide a grounded, practical look at its real-world applications and limitations. By considering both the benefits and drawbacks of [SUBJECT] in various contexts, including **[INPUT GOES HERE]**, the piece would offer readers a nuanced understanding of what [SUBJECT] can realistically achieve. This would involve a chain of thought process, where each point builds on the previous one to create a logical and coherent argument, culminating in actionable advice for those looking to leverage [SUBJECT] effectively.\\n\\n## The Future of [INDUSTRY/FIELD]: Predictions and Insights from [SUBJECT] Experts\\nThis article would compile predictions and insights from leading experts in [SUBJECT], focusing on how it will shape the future of [INDUSTRY/FIELD]. Through a series of interviews or a roundtable discussion, the piece would gather diverse perspectives on the trends, challenges, and opportunities that [SUBJECT] presents. By organizing the content into a structured summary, complete with numbered lists of key takeaways and predictions, readers would be able to navigate the complex landscape of [SUBJECT] and its implications for [INDUSTRY/FIELD] with clarity.\\n\\n## From [SUBJECT] to Success: Real-Life Stories of Innovation and Adaptation\\nIn this article, the focus would be on showcasing real-life stories of how individuals or organizations have successfully harnessed [SUBJECT] to drive innovation and adaptation in their respective fields. By highlighting specific strategies, challenges overcome, and lessons learned, these case studies would serve as powerful examples of the potential of [SUBJECT] when applied with dedication and creativity. The article would be designed to inspire and motivate readers, encouraging them to explore how [SUBJECT] can be applied in their own contexts, with a call to action that prompts them to share their own stories or experiences with **[INPUT GOES HERE]**.\""
      ]
     },
     "execution_count": 10,
     "metadata": {},
     "output_type": "execute_result"
    }
   ],
   "source": [
    "response.content"
   ]
  },
  {
   "cell_type": "code",
   "execution_count": 11,
   "metadata": {},
   "outputs": [
    {
     "data": {
      "text/markdown": [
       "Act as a seasoned copywriter specializing in crafting compelling content, with a focus on [SUBJECT] and the additional context of [MORE INFORMATION]. Your task is to generate five persuasive article ideas that capture the essence of the subject matter, incorporating the necessary background information to ensure accuracy and reliability. Present each idea as a headline, followed by a detailed description of the article's content and why it would resonate with the target audience. Ensure the response format is clear, with each article idea building upon the previous one to create a cohesive narrative. If applicable, provide examples to illustrate key points and leave space for user-provided input as **[INPUT GOES HERE]**.\n",
       "\n",
       "## Unlocking the Power of [SUBJECT]: A Deep Dive into Its Impact on [INDUSTRY/FIELD]\n",
       "This article would delve into the significance of [SUBJECT] within the context of [INDUSTRY/FIELD], exploring its current applications, future potential, and the challenges it poses. By examining real-world examples and expert insights, readers would gain a comprehensive understanding of how [SUBJECT] is revolutionizing [INDUSTRY/FIELD] and what this means for stakeholders. The piece would be structured as an in-depth analysis, complete with bullet points highlighting key statistics and trends, to provide a clear and concise overview of the subject's influence.\n",
       "\n",
       "## The [SUBJECT] Revolution: How [MORE INFORMATION] Is Changing the Game\n",
       "This article idea focuses on the intersection of [SUBJECT] and [MORE INFORMATION], discussing how their convergence is creating new opportunities and challenges. Through a step-by-step examination of current developments and future projections, the article would guide readers through the process of understanding and adapting to these changes. Incorporating debate simulations to address potential controversies and self-reflection to consider multiple perspectives, the piece would offer a balanced and thought-provoking exploration of the [SUBJECT] revolution.\n",
       "\n",
       "## Beyond the Hype: A Balanced Look at [SUBJECT] and Its Practical Applications\n",
       "With this article, the aim is to cut through the hype surrounding [SUBJECT] and provide a grounded, practical look at its real-world applications and limitations. By considering both the benefits and drawbacks of [SUBJECT] in various contexts, including **[INPUT GOES HERE]**, the piece would offer readers a nuanced understanding of what [SUBJECT] can realistically achieve. This would involve a chain of thought process, where each point builds on the previous one to create a logical and coherent argument, culminating in actionable advice for those looking to leverage [SUBJECT] effectively.\n",
       "\n",
       "## The Future of [INDUSTRY/FIELD]: Predictions and Insights from [SUBJECT] Experts\n",
       "This article would compile predictions and insights from leading experts in [SUBJECT], focusing on how it will shape the future of [INDUSTRY/FIELD]. Through a series of interviews or a roundtable discussion, the piece would gather diverse perspectives on the trends, challenges, and opportunities that [SUBJECT] presents. By organizing the content into a structured summary, complete with numbered lists of key takeaways and predictions, readers would be able to navigate the complex landscape of [SUBJECT] and its implications for [INDUSTRY/FIELD] with clarity.\n",
       "\n",
       "## From [SUBJECT] to Success: Real-Life Stories of Innovation and Adaptation\n",
       "In this article, the focus would be on showcasing real-life stories of how individuals or organizations have successfully harnessed [SUBJECT] to drive innovation and adaptation in their respective fields. By highlighting specific strategies, challenges overcome, and lessons learned, these case studies would serve as powerful examples of the potential of [SUBJECT] when applied with dedication and creativity. The article would be designed to inspire and motivate readers, encouraging them to explore how [SUBJECT] can be applied in their own contexts, with a call to action that prompts them to share their own stories or experiences with **[INPUT GOES HERE]**."
      ],
      "text/plain": [
       "<IPython.core.display.Markdown object>"
      ]
     },
     "execution_count": 11,
     "metadata": {},
     "output_type": "execute_result"
    }
   ],
   "source": [
    "from IPython.display import Markdown, display\n",
    "\n",
    "Markdown(response.content)"
   ]
  },
  {
   "cell_type": "markdown",
   "metadata": {},
   "source": []
  },
  {
   "cell_type": "markdown",
   "metadata": {},
   "source": []
  },
  {
   "cell_type": "markdown",
   "metadata": {},
   "source": []
  }
 ],
 "metadata": {
  "kernelspec": {
   "display_name": "brainai",
   "language": "python",
   "name": "python3"
  },
  "language_info": {
   "codemirror_mode": {
    "name": "ipython",
    "version": 3
   },
   "file_extension": ".py",
   "mimetype": "text/x-python",
   "name": "python",
   "nbconvert_exporter": "python",
   "pygments_lexer": "ipython3",
   "version": "3.12.9"
  }
 },
 "nbformat": 4,
 "nbformat_minor": 2
}
